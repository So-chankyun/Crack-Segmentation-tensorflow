{
 "cells": [
  {
   "cell_type": "code",
   "execution_count": 1,
   "metadata": {},
   "outputs": [],
   "source": [
    "import logging\n",
    "logging.getLogger(\"tensorflow\").setLevel(logging.DEBUG)\n",
    "\n",
    "import tensorflow as tf\n",
    "import tensorflow_model_optimization as tfmot\n",
    "import numpy as np\n",
    "assert float(tf.__version__[:3]) >= 2.3"
   ]
  },
  {
   "cell_type": "markdown",
   "metadata": {},
   "source": [
    "## Model loading"
   ]
  },
  {
   "cell_type": "code",
   "execution_count": 2,
   "metadata": {},
   "outputs": [],
   "source": [
    "from utils.losses import focal_loss\n",
    "from builders import builder"
   ]
  },
  {
   "cell_type": "code",
   "execution_count": 42,
   "metadata": {},
   "outputs": [
    {
     "data": {
      "text/plain": [
       "['UNet_based_on_MobileNetV2_gamma_2.h5',\n",
       " 'UNet_based_on_MobileNetV2_gamma_5.h5',\n",
       " 'UNet_based_on_MobileNetV2_CE.h5',\n",
       " 'PIDNet_based_on_resnet_0.h5',\n",
       " 'UNet_based_on_VGG16_29.h5',\n",
       " 'UNet_based_on_MobileNetV2_QAT.h5',\n",
       " 'PAN_based_on_MobileNetV2_29.h5',\n",
       " 'DeepLabV3Plus_based_on_MobileNetV2_29.h5',\n",
       " 'metadata']"
      ]
     },
     "execution_count": 42,
     "metadata": {},
     "output_type": "execute_result"
    }
   ],
   "source": [
    "weights_list = os.listdir(os.path.join(os.getcwd(),'weights'))\n",
    "weights_list"
   ]
  },
  {
   "cell_type": "code",
   "execution_count": 9,
   "metadata": {},
   "outputs": [],
   "source": [
    "num_classes = 2\n",
    "size = (256,256)\n",
    "batch_size = 2\n",
    "model_name = 'UNet'\n",
    "base_model = 'MobileNetV2'\n",
    "\n",
    "working_dir = os.getcwd()\n",
    "\n",
    "# model, base_model = builder(num_classes, size, model_name, base_model)\n",
    "# # 가중치 로드\n",
    "# model.load_weights(os.path.join(working_dir,'weights',weights_list[1]))"
   ]
  },
  {
   "cell_type": "markdown",
   "metadata": {},
   "source": [
    "## Model Redefine"
   ]
  },
  {
   "cell_type": "code",
   "execution_count": 45,
   "metadata": {},
   "outputs": [],
   "source": [
    "layers = tf.keras.layers\n",
    "input_size = (256,256)\n",
    "\n",
    "inputs = layers.Input(shape=input_size+(3,))\n",
    "\n",
    "# 일단은 모델 unet 통과\n",
    "x = model(inputs)\n",
    "# outputs = tf.expand_dims(tf.math.argmax(tf.nn.softmax(x,axis=-1),axis=-1,output_type=tf.dtypes.int32),axis=0)\n",
    "outputs = layers.Dense(num_classes,activation='softmax',dtype=tf.uint8) # 설마 .....마지막 차원이겠지.....\n",
    "\n",
    "model = tf.keras.Model(inputs=inputs,outputs=outputs)"
   ]
  },
  {
   "cell_type": "code",
   "execution_count": 46,
   "metadata": {},
   "outputs": [
    {
     "name": "stdout",
     "output_type": "stream",
     "text": [
      "Model: \"model_4\"\n",
      "_________________________________________________________________\n",
      " Layer (type)                Output Shape              Param #   \n",
      "=================================================================\n",
      " input_23 (InputLayer)       [(None, 256, 256, 3)]     0         \n",
      "                                                                 \n",
      " UNet (Functional)           (None, 256, 256, 2)       12401930  \n",
      "                                                                 \n",
      " tf.nn.softmax_18 (TFOpLambd  (None, 256, 256, 2)      0         \n",
      " a)                                                              \n",
      "                                                                 \n",
      "=================================================================\n",
      "Total params: 12,401,930\n",
      "Trainable params: 12,362,054\n",
      "Non-trainable params: 39,876\n",
      "_________________________________________________________________\n"
     ]
    }
   ],
   "source": [
    "model.summary()"
   ]
  },
  {
   "cell_type": "markdown",
   "metadata": {},
   "source": [
    "## Sample Dataloading"
   ]
  },
  {
   "cell_type": "code",
   "execution_count": 43,
   "metadata": {},
   "outputs": [],
   "source": [
    "from utils.helpers import get_dataset_info\n",
    "from utils.data_generator import ImageDataGenerator"
   ]
  },
  {
   "cell_type": "code",
   "execution_count": 44,
   "metadata": {},
   "outputs": [],
   "source": [
    "# data_path = \"D://crack data//도로장애물·표면 인지 영상(수도권)//Training//Images//CRACK//data\"\n",
    "data_path = \"E:/Training/Images/data\"\n",
    "\n",
    "\n",
    "_, valid_image_names = get_dataset_info(data_path)\n",
    "\n",
    "image_gen = ImageDataGenerator()\n",
    "\n",
    "valid_generator = image_gen.flow(images_list=valid_image_names[:10],\n",
    "                                num_classes=num_classes,\n",
    "                                batch_size=batch_size,\n",
    "                                target_size=size\n",
    "                                )"
   ]
  },
  {
   "cell_type": "markdown",
   "metadata": {},
   "source": [
    "## TensorFlow Lite 모델로 변환하기"
   ]
  },
  {
   "cell_type": "code",
   "execution_count": 47,
   "metadata": {},
   "outputs": [
    {
     "name": "stdout",
     "output_type": "stream",
     "text": [
      "INFO:tensorflow:Assets written to: C:\\Users\\chank\\AppData\\Local\\Temp\\tmpdowher3d\\assets\n"
     ]
    },
    {
     "name": "stderr",
     "output_type": "stream",
     "text": [
      "INFO:tensorflow:Assets written to: C:\\Users\\chank\\AppData\\Local\\Temp\\tmpdowher3d\\assets\n"
     ]
    }
   ],
   "source": [
    "converter = tf.lite.TFLiteConverter.from_keras_model(model)\n",
    "\n",
    "tflite_model = converter.convert()"
   ]
  },
  {
   "cell_type": "markdown",
   "metadata": {},
   "source": [
    "### 동적 범위 양차화를 사용하여 변환하기"
   ]
  },
  {
   "cell_type": "code",
   "execution_count": 12,
   "metadata": {},
   "outputs": [
    {
     "name": "stdout",
     "output_type": "stream",
     "text": [
      "INFO:tensorflow:Assets written to: C:\\Users\\hci\\AppData\\Local\\Temp\\tmpczlqv88r\\assets\n"
     ]
    },
    {
     "name": "stderr",
     "output_type": "stream",
     "text": [
      "INFO:tensorflow:Assets written to: C:\\Users\\hci\\AppData\\Local\\Temp\\tmpczlqv88r\\assets\n"
     ]
    }
   ],
   "source": [
    "converter = tf.lite.TFLiteConverter.from_keras_model(model)\n",
    "converter.optimizations = [tf.lite.Optimize.DEFAULT]\n",
    "\n",
    "tflite_model_quant = converter.convert()"
   ]
  },
  {
   "cell_type": "markdown",
   "metadata": {},
   "source": [
    "### 정수 전용 양자화를 사용하여 변환하기"
   ]
  },
  {
   "cell_type": "code",
   "execution_count": 35,
   "metadata": {},
   "outputs": [
    {
     "name": "stdout",
     "output_type": "stream",
     "text": [
      "INFO:tensorflow:Assets written to: C:\\Users\\chank\\AppData\\Local\\Temp\\tmpn816d72g\\assets\n"
     ]
    },
    {
     "name": "stderr",
     "output_type": "stream",
     "text": [
      "INFO:tensorflow:Assets written to: C:\\Users\\chank\\AppData\\Local\\Temp\\tmpn816d72g\\assets\n"
     ]
    }
   ],
   "source": [
    "def representative_data_gen():\n",
    "  for i, (images,masks) in enumerate(valid_generator):\n",
    "    if i == 3:\n",
    "        break\n",
    "    yield [images.astype(np.float32)]\n",
    "\n",
    "converter = tf.lite.TFLiteConverter.from_keras_model(model)\n",
    "converter.optimizations = [tf.lite.Optimize.DEFAULT]\n",
    "converter.representative_dataset = representative_data_gen\n",
    "# Ensure that if any ops can't be quantized, the converter throws an error\n",
    "converter.target_spec.supported_ops = [tf.lite.OpsSet.TFLITE_BUILTINS_INT8]\n",
    "# Set the input and output tensors to uint8 (APIs added in r2.3)\n",
    "converter.inference_input_type = tf.uint8\n",
    "converter.inference_output_type = tf.uint8\n",
    "\n",
    "tflite_model_quant = converter.convert()"
   ]
  },
  {
   "cell_type": "code",
   "execution_count": 36,
   "metadata": {},
   "outputs": [
    {
     "name": "stdout",
     "output_type": "stream",
     "text": [
      "input:  <class 'numpy.uint8'>\n",
      "output:  <class 'numpy.int32'>\n"
     ]
    }
   ],
   "source": [
    "interpreter = tf.lite.Interpreter(model_content=tflite_model_quant)\n",
    "input_type = interpreter.get_input_details()[0]['dtype']\n",
    "print('input: ', input_type)\n",
    "output_type = interpreter.get_output_details()[0]['dtype']\n",
    "print('output: ', output_type)"
   ]
  },
  {
   "cell_type": "code",
   "execution_count": 48,
   "metadata": {},
   "outputs": [
    {
     "data": {
      "text/plain": [
       "49401736"
      ]
     },
     "execution_count": 48,
     "metadata": {},
     "output_type": "execute_result"
    }
   ],
   "source": [
    "# 모델 저장\n",
    "import pathlib\n",
    "\n",
    "tflite_models_dir = pathlib.Path(\"./tflite_models/unet_tflite_models/\")\n",
    "tflite_models_dir.mkdir(exist_ok=True, parents=True)\n",
    "\n",
    "# Save the unquantized/float model:\n",
    "tflite_model_file = tflite_models_dir/\"unet_tflite_models.tflite\"\n",
    "tflite_model_file.write_bytes(tflite_model)\n",
    "\n",
    "# # Save the quantized model:\n",
    "# tflite_model_quant_file = tflite_models_dir/\"unet_tflite_quant_models.tflite\"\n",
    "# tflite_model_quant_file.write_bytes(tflite_model_quant)"
   ]
  },
  {
   "cell_type": "markdown",
   "metadata": {},
   "source": [
    "## Test"
   ]
  },
  {
   "cell_type": "code",
   "execution_count": 4,
   "metadata": {},
   "outputs": [],
   "source": [
    "import tensorflow as tf\n",
    "from utils.losses import dice_coef\n",
    "from tqdm import tqdm "
   ]
  },
  {
   "cell_type": "code",
   "execution_count": 5,
   "metadata": {},
   "outputs": [],
   "source": [
    "# Helper function to run inference on a TFLite model\n",
    "def run_tflite_model(tflite_file, batch_data): # 1 batch를 받아옴\n",
    "  # Initialize the interpreter\n",
    "  interpreter = tf.lite.Interpreter(model_path=str(tflite_file))\n",
    "  interpreter.allocate_tensors()\n",
    "\n",
    "  input_details = interpreter.get_input_details()[0]\n",
    "  output_details = interpreter.get_output_details()[0]\n",
    "\n",
    "  predictions = []\n",
    "\n",
    "  images = batch_data[0]\n",
    "  masks = batch_data[1]\n",
    "  \n",
    "  for i in tqdm(range(len(images))): \n",
    "    # 각 이미지 로딩\n",
    "    image = images[i]\n",
    "    mask = masks[i]\n",
    "\n",
    "    # Check if the input type is quantized, then rescale input data to uint8\n",
    "    if input_details['dtype'] == np.uint8:\n",
    "      input_scale, input_zero_point = input_details[\"quantization\"]\n",
    "      image = image / input_scale + input_zero_point\n",
    "\n",
    "    image = np.expand_dims(image,axis=0).astype(input_details[\"dtype\"])\n",
    "    interpreter.set_tensor(input_details[\"index\"], image)\n",
    "    interpreter.invoke()\n",
    "    output = interpreter.get_tensor(output_details[\"index\"])[0]\n",
    "\n",
    "    predictions.append(np.argmax(output,axis=-1))\n",
    "\n",
    "    if i == 0:\n",
    "      break\n",
    "\n",
    "  return masks[:,1], predictions"
   ]
  },
  {
   "cell_type": "code",
   "execution_count": null,
   "metadata": {},
   "outputs": [],
   "source": [
    "# Helper function to evaluate a TFLite model on all images\n",
    "def evaluate_model(tflite_file, model_type, data_generator):\n",
    "    true_masks, predictions = run_tflite_model(tflite_file, data_generator[0]) # 1 batch를 넘겨줌\n",
    "\n",
    "    dice_score = 0\n",
    "\n",
    "    for i in range(batch_size):\n",
    "        dice_score +=dice_coef(true_masks[i],predictions[i].astype(np.float64))\n",
    "        if i == 0:\n",
    "            break\n",
    "\n",
    "    dice_score /= batch_size\n",
    "\n",
    "    print('%s model dice_score is %.4f%% (Number of test samples=%d)' % (\n",
    "        model_type, dice_score, batch_size))"
   ]
  },
  {
   "cell_type": "code",
   "execution_count": null,
   "metadata": {},
   "outputs": [
    {
     "name": "stdout",
     "output_type": "stream",
     "text": [
      "Quantization model\n",
      "\n"
     ]
    },
    {
     "ename": "NameError",
     "evalue": "name 'valid_generator' is not defined",
     "output_type": "error",
     "traceback": [
      "\u001b[1;31m---------------------------------------------------------------------------\u001b[0m",
      "\u001b[1;31mNameError\u001b[0m                                 Traceback (most recent call last)",
      "Cell \u001b[1;32mIn [2], line 5\u001b[0m\n\u001b[0;32m      2\u001b[0m model_path \u001b[39m=\u001b[39m \u001b[39m'\u001b[39m\u001b[39m./tflite_models/unet_tflite_models/unet_tflite_models.tflite\u001b[39m\u001b[39m'\u001b[39m\n\u001b[0;32m      4\u001b[0m \u001b[39mprint\u001b[39m(\u001b[39m'\u001b[39m\u001b[39mQuantization model\u001b[39m\u001b[39m\\n\u001b[39;00m\u001b[39m'\u001b[39m)\n\u001b[1;32m----> 5\u001b[0m evaluate_model(quant_model_path,\u001b[39m\"\u001b[39m\u001b[39mQuantized\u001b[39m\u001b[39m\"\u001b[39m,valid_generator)\n\u001b[0;32m      7\u001b[0m \u001b[39mprint\u001b[39m(\u001b[39m'\u001b[39m\u001b[39mNormal Model\u001b[39m\u001b[39m\\n\u001b[39;00m\u001b[39m'\u001b[39m)\n\u001b[0;32m      8\u001b[0m evaluate_model(model_path,\u001b[39m\"\u001b[39m\u001b[39mFloat\u001b[39m\u001b[39m\"\u001b[39m,valid_generator)\n",
      "\u001b[1;31mNameError\u001b[0m: name 'valid_generator' is not defined"
     ]
    }
   ],
   "source": [
    "quant_model_path = './tflite_models/unet_tflite_models/unet_tflite_quant_models.tflite'\n",
    "model_path = './tflite_models/unet_tflite_models/unet_tflite_models.tflite'\n",
    "\n",
    "print('Quantization model\\n')\n",
    "evaluate_model(quant_model_path,\"Quantized\",valid_generator)\n",
    "\n",
    "print('Normal Model\\n')\n",
    "evaluate_model(model_path,\"Float\",valid_generator)"
   ]
  },
  {
   "cell_type": "code",
   "execution_count": 6,
   "metadata": {},
   "outputs": [
    {
     "name": "stdout",
     "output_type": "stream",
     "text": [
      "Metadata populated:\n",
      "{\n",
      "  \"name\": \"DeepLabV3\",\n",
      "  \"description\": \"Semantic image segmentation predicts whether each pixel of an image is associated with a certain class.\",\n",
      "  \"version\": \"v1\",\n",
      "  \"subgraph_metadata\": [\n",
      "    {\n",
      "      \"input_tensor_metadata\": [\n",
      "        {\n",
      "          \"name\": \"image\",\n",
      "          \"description\": \"Input image to be segmented. The expected image is 257 x 257, with three channels (red, blue, and green) per pixel. Each element in the tensor is a value between -1 and 1.\",\n",
      "          \"content\": {\n",
      "            \"content_properties_type\": \"ImageProperties\",\n",
      "            \"content_properties\": {\n",
      "              \"color_space\": \"RGB\"\n",
      "            }\n",
      "          },\n",
      "          \"process_units\": [\n",
      "            {\n",
      "              \"options_type\": \"NormalizationOptions\",\n",
      "              \"options\": {\n",
      "                \"mean\": [\n",
      "                  127.5\n",
      "                ],\n",
      "                \"std\": [\n",
      "                  127.5\n",
      "                ]\n",
      "              }\n",
      "            }\n",
      "          ],\n",
      "          \"stats\": {\n",
      "            \"max\": [\n",
      "              1.0\n",
      "            ],\n",
      "            \"min\": [\n",
      "              -1.0\n",
      "            ]\n",
      "          }\n",
      "        }\n",
      "      ],\n",
      "      \"output_tensor_metadata\": [\n",
      "        {\n",
      "          \"name\": \"segmentation masks\",\n",
      "          \"description\": \"Masks over the target objects with high accuracy.\",\n",
      "          \"content\": {\n",
      "            \"content_properties_type\": \"ImageProperties\",\n",
      "            \"content_properties\": {\n",
      "              \"color_space\": \"GRAYSCALE\"\n",
      "            },\n",
      "            \"range\": {\n",
      "              \"min\": 1,\n",
      "              \"max\": 2\n",
      "            }\n",
      "          },\n",
      "          \"associated_files\": [\n",
      "            {\n",
      "              \"name\": \"labelmap.txt\",\n",
      "              \"description\": \"Label of classes that this model can recognize.\",\n",
      "              \"type\": \"TENSOR_AXIS_LABELS\"\n",
      "            }\n",
      "          ]\n",
      "        }\n",
      "      ]\n",
      "    }\n",
      "  ],\n",
      "  \"author\": \"TensorFlow\",\n",
      "  \"license\": \"Apache License. Version 2.0 http://www.apache.org/licenses/LICENSE-2.0.\",\n",
      "  \"min_parser_version\": \"1.0.0\"\n",
      "}\n",
      "\n",
      "Associated file(s) populated:\n",
      "file name:  labelmap.txt\n",
      "file content:\n",
      "b'background\\naeroplane\\nbicycle\\nbird\\nboat\\nbottle\\nbus\\ncar\\ncat\\nchair\\ncow\\ndining table\\ndog\\nhorse\\nmotorbike\\nperson\\npotted plant\\nsheep\\nsofa\\ntrain\\ntv\\n'\n"
     ]
    }
   ],
   "source": [
    "from tflite_support import metadata\n",
    "\n",
    "displayer = metadata.MetadataDisplayer.with_model_file(\"./tflite_models/deeplabv3.tflite\")\n",
    "print(\"Metadata populated:\")\n",
    "print(displayer.get_metadata_json())\n",
    "\n",
    "print(\"Associated file(s) populated:\")\n",
    "for file_name in displayer.get_packed_associated_file_list():\n",
    "  print(\"file name: \", file_name)\n",
    "  print(\"file content:\")\n",
    "  print(displayer.get_associated_file_buffer(file_name))"
   ]
  },
  {
   "cell_type": "markdown",
   "metadata": {},
   "source": [
    "## Tensorflow lite Metadata Writer"
   ]
  },
  {
   "cell_type": "code",
   "execution_count": 30,
   "metadata": {},
   "outputs": [],
   "source": [
    "from tflite_support.metadata_writers import image_segmenter\n",
    "from tflite_support.metadata_writers import writer_utils"
   ]
  },
  {
   "cell_type": "code",
   "execution_count": 104,
   "metadata": {},
   "outputs": [
    {
     "name": "stdout",
     "output_type": "stream",
     "text": [
      "{\n",
      "  \"name\": \"ImageSegmenter\",\n",
      "  \"description\": \"Semantic image segmentation predicts whether each pixel of an image is associated with a certain class.\",\n",
      "  \"subgraph_metadata\": [\n",
      "    {\n",
      "      \"input_tensor_metadata\": [\n",
      "        {\n",
      "          \"name\": \"image\",\n",
      "          \"description\": \"Input image to be segmented.\",\n",
      "          \"content\": {\n",
      "            \"content_properties_type\": \"ImageProperties\",\n",
      "            \"content_properties\": {\n",
      "              \"color_space\": \"RGB\"\n",
      "            }\n",
      "          },\n",
      "          \"process_units\": [\n",
      "            {\n",
      "              \"options_type\": \"NormalizationOptions\",\n",
      "              \"options\": {\n",
      "                \"mean\": [\n",
      "                  127.5\n",
      "                ],\n",
      "                \"std\": [\n",
      "                  127.5\n",
      "                ]\n",
      "              }\n",
      "            }\n",
      "          ],\n",
      "          \"stats\": {\n",
      "            \"max\": [\n",
      "              1.0\n",
      "            ],\n",
      "            \"min\": [\n",
      "              -1.0\n",
      "            ]\n",
      "          }\n",
      "        }\n",
      "      ],\n",
      "      \"output_tensor_metadata\": [\n",
      "        {\n",
      "          \"name\": \"segmentation_masks\",\n",
      "          \"description\": \"Masks over the target objects with high accuracy.\",\n",
      "          \"content\": {\n",
      "            \"content_properties_type\": \"ImageProperties\",\n",
      "            \"content_properties\": {\n",
      "              \"color_space\": \"GRAYSCALE\"\n",
      "            },\n",
      "            \"range\": {\n",
      "              \"min\": 1,\n",
      "              \"max\": 2\n",
      "            }\n",
      "          },\n",
      "          \"stats\": {\n",
      "          },\n",
      "          \"associated_files\": [\n",
      "            {\n",
      "              \"name\": \"label.txt\",\n",
      "              \"description\": \"Labels for categories that the model can recognize.\",\n",
      "              \"type\": \"TENSOR_AXIS_LABELS\"\n",
      "            }\n",
      "          ]\n",
      "        }\n",
      "      ]\n",
      "    }\n",
      "  ]\n",
      "}\n",
      "\n"
     ]
    }
   ],
   "source": [
    "ImageSegmenterWriter = image_segmenter.MetadataWriter\n",
    "# _MODEL_PATH = \"./tflite_models/deeplabv3.tflite\"\n",
    "# _MODEL_PATH = \"./tflite_models/unet_tflite_models/unet_tflite_models.tflite\"\n",
    "# _MODEL_PATH = \"./tflite_models/unet_tflite_models/unet_tflite_quant_qat_models.tflite\"\n",
    "# _MODEL_PATH = \"./tflite_models/unet_tflite_models/unet_tflite_quant_models.tflite\"\n",
    "_MODEL_PATH = \"./tflite_models/unet_tflite_models/unet_tflite_quant_320480_models.tflite\"\n",
    "\n",
    "# Task Library expects label files that are in the same format as the one below.\n",
    "_LABEL_FILE = \"./label.txt\"\n",
    "_SAVE_TO_PATH = \"unet_tflite_quant_qat_320480_models_metadata.tflite\"\n",
    "# Normalization parameters is required when reprocessing the image. It is\n",
    "# optional if the image pixel values are in range of [0, 255] and the input\n",
    "# tensor is quantized to uint8. See the introduction for normalization and\n",
    "# quantization parameters below for more details.\n",
    "# https://www.tensorflow.org/lite/models/convert/metadata#normalization_and_quantization_parameters)\n",
    "_INPUT_NORM_MEAN = 127.5\n",
    "_INPUT_NORM_STD = 127.5\n",
    "\n",
    "# Create the metadata writer.\n",
    "writer = ImageSegmenterWriter.create_for_inference(\n",
    "    writer_utils.load_file(_MODEL_PATH), [_INPUT_NORM_MEAN], [_INPUT_NORM_STD],[_LABEL_FILE])\n",
    "\n",
    "# Verify the metadata generated by metadata writer.\n",
    "print(writer.get_metadata_json())\n",
    "\n",
    "# Populate the metadata into the model.\n",
    "writer_utils.save_file(writer.populate(), _SAVE_TO_PATH)"
   ]
  },
  {
   "cell_type": "markdown",
   "metadata": {},
   "source": [
    "## Quantization Model\n",
    "#### 참조사이트\n",
    "- [훈련 후 정수 양자화](https://www.tensorflow.org/lite/performance/post_training_integer_quant?hl=ko)\n",
    "- [TensorFlow Lite 8bits 양자화 사양](https://www.tensorflow.org/lite/performance/quantization_spec)\n",
    "- [딥러닝의 Quantization (양자화)와 Quantization Aware Training](https://gaussian37.github.io/dl-concept-quantization/)"
   ]
  },
  {
   "cell_type": "code",
   "execution_count": 22,
   "metadata": {},
   "outputs": [
    {
     "data": {
      "text/plain": [
       "['UNet_based_on_MobileNetV2_gamma_2.h5',\n",
       " 'UNet_based_on_MobileNetV2_gamma_5.h5',\n",
       " 'UNet_based_on_MobileNetV2_CE.h5',\n",
       " 'PIDNet_based_on_resnet_0.h5',\n",
       " 'UNet_based_on_VGG16_29.h5',\n",
       " 'UNet_based_on_MobileNetV2_QAT.h5',\n",
       " 'PAN_based_on_MobileNetV2_29.h5',\n",
       " 'DeepLabV3Plus_based_on_MobileNetV2_29.h5',\n",
       " 'metadata',\n",
       " 'UNet_based_on_MobileNetV2_320480.h5']"
      ]
     },
     "execution_count": 22,
     "metadata": {},
     "output_type": "execute_result"
    }
   ],
   "source": [
    "weights_list = os.listdir('./weights/')\n",
    "weights_list"
   ]
  },
  {
   "cell_type": "code",
   "execution_count": 25,
   "metadata": {},
   "outputs": [],
   "source": [
    "num_classes = 2\n",
    "size = (320,480)\n",
    "# size = (256,256)\n",
    "batch_size = 32\n",
    "model_name = 'UNet'\n",
    "base_model = 'MobileNetV2'\n",
    "layers = tf.keras.layers\n",
    "inputs = layers.Input(shape=size+(3,),dtype=tf.float32)\n",
    "\n",
    "working_dir = os.getcwd()\n",
    "\n",
    "# quantize_model = tfmot.quantization.keras.quantize_model\n",
    "\n",
    "model, base_model = builder(num_classes, size, model_name, base_model)\n",
    "# model = quantize_model(model)\n",
    "\n",
    "# 가중치 로드\n",
    "model.load_weights(os.path.join(working_dir,'weights',weights_list[1]))\n",
    "\n",
    "# x = model(inputs)\n",
    "# outputs = layers.Softmax(axis=-1)(x) \n",
    "\n",
    "# model = tf.keras.Model(inputs=inputs,outputs=outputs)"
   ]
  },
  {
   "cell_type": "code",
   "execution_count": 26,
   "metadata": {},
   "outputs": [
    {
     "name": "stdout",
     "output_type": "stream",
     "text": [
      "Model: \"UNet\"\n",
      "__________________________________________________________________________________________________\n",
      " Layer (type)                   Output Shape         Param #     Connected to                     \n",
      "==================================================================================================\n",
      " input_24 (InputLayer)          [(None, 320, 480, 3  0           []                               \n",
      "                                )]                                                                \n",
      "                                                                                                  \n",
      " Conv1_pad (ZeroPadding2D)      (None, 321, 481, 3)  0           ['input_24[0][0]']               \n",
      "                                                                                                  \n",
      " Conv1 (Conv2D)                 (None, 160, 240, 32  864         ['Conv1_pad[0][0]']              \n",
      "                                )                                                                 \n",
      "                                                                                                  \n",
      " bn_Conv1 (BatchNormalization)  (None, 160, 240, 32  128         ['Conv1[0][0]']                  \n",
      "                                )                                                                 \n",
      "                                                                                                  \n",
      " Conv1_relu (ReLU)              (None, 160, 240, 32  0           ['bn_Conv1[0][0]']               \n",
      "                                )                                                                 \n",
      "                                                                                                  \n",
      " expanded_conv_depthwise (Depth  (None, 160, 240, 32  288        ['Conv1_relu[0][0]']             \n",
      " wiseConv2D)                    )                                                                 \n",
      "                                                                                                  \n",
      " expanded_conv_depthwise_BN (Ba  (None, 160, 240, 32  128        ['expanded_conv_depthwise[0][0]']\n",
      " tchNormalization)              )                                                                 \n",
      "                                                                                                  \n",
      " expanded_conv_depthwise_relu (  (None, 160, 240, 32  0          ['expanded_conv_depthwise_BN[0][0\n",
      " ReLU)                          )                                ]']                              \n",
      "                                                                                                  \n",
      " expanded_conv_project (Conv2D)  (None, 160, 240, 16  512        ['expanded_conv_depthwise_relu[0]\n",
      "                                )                                [0]']                            \n",
      "                                                                                                  \n",
      " expanded_conv_project_BN (Batc  (None, 160, 240, 16  64         ['expanded_conv_project[0][0]']  \n",
      " hNormalization)                )                                                                 \n",
      "                                                                                                  \n",
      " block_1_expand (Conv2D)        (None, 160, 240, 96  1536        ['expanded_conv_project_BN[0][0]'\n",
      "                                )                                ]                                \n",
      "                                                                                                  \n",
      " block_1_expand_BN (BatchNormal  (None, 160, 240, 96  384        ['block_1_expand[0][0]']         \n",
      " ization)                       )                                                                 \n",
      "                                                                                                  \n",
      " block_1_expand_relu (ReLU)     (None, 160, 240, 96  0           ['block_1_expand_BN[0][0]']      \n",
      "                                )                                                                 \n",
      "                                                                                                  \n",
      " block_1_pad (ZeroPadding2D)    (None, 161, 241, 96  0           ['block_1_expand_relu[0][0]']    \n",
      "                                )                                                                 \n",
      "                                                                                                  \n",
      " block_1_depthwise (DepthwiseCo  (None, 80, 120, 96)  864        ['block_1_pad[0][0]']            \n",
      " nv2D)                                                                                            \n",
      "                                                                                                  \n",
      " block_1_depthwise_BN (BatchNor  (None, 80, 120, 96)  384        ['block_1_depthwise[0][0]']      \n",
      " malization)                                                                                      \n",
      "                                                                                                  \n",
      " block_1_depthwise_relu (ReLU)  (None, 80, 120, 96)  0           ['block_1_depthwise_BN[0][0]']   \n",
      "                                                                                                  \n",
      " block_1_project (Conv2D)       (None, 80, 120, 24)  2304        ['block_1_depthwise_relu[0][0]'] \n",
      "                                                                                                  \n",
      " block_1_project_BN (BatchNorma  (None, 80, 120, 24)  96         ['block_1_project[0][0]']        \n",
      " lization)                                                                                        \n",
      "                                                                                                  \n",
      " block_2_expand (Conv2D)        (None, 80, 120, 144  3456        ['block_1_project_BN[0][0]']     \n",
      "                                )                                                                 \n",
      "                                                                                                  \n",
      " block_2_expand_BN (BatchNormal  (None, 80, 120, 144  576        ['block_2_expand[0][0]']         \n",
      " ization)                       )                                                                 \n",
      "                                                                                                  \n",
      " block_2_expand_relu (ReLU)     (None, 80, 120, 144  0           ['block_2_expand_BN[0][0]']      \n",
      "                                )                                                                 \n",
      "                                                                                                  \n",
      " block_2_depthwise (DepthwiseCo  (None, 80, 120, 144  1296       ['block_2_expand_relu[0][0]']    \n",
      " nv2D)                          )                                                                 \n",
      "                                                                                                  \n",
      " block_2_depthwise_BN (BatchNor  (None, 80, 120, 144  576        ['block_2_depthwise[0][0]']      \n",
      " malization)                    )                                                                 \n",
      "                                                                                                  \n",
      " block_2_depthwise_relu (ReLU)  (None, 80, 120, 144  0           ['block_2_depthwise_BN[0][0]']   \n",
      "                                )                                                                 \n",
      "                                                                                                  \n",
      " block_2_project (Conv2D)       (None, 80, 120, 24)  3456        ['block_2_depthwise_relu[0][0]'] \n",
      "                                                                                                  \n",
      " block_2_project_BN (BatchNorma  (None, 80, 120, 24)  96         ['block_2_project[0][0]']        \n",
      " lization)                                                                                        \n",
      "                                                                                                  \n",
      " block_2_add (Add)              (None, 80, 120, 24)  0           ['block_1_project_BN[0][0]',     \n",
      "                                                                  'block_2_project_BN[0][0]']     \n",
      "                                                                                                  \n",
      " block_3_expand (Conv2D)        (None, 80, 120, 144  3456        ['block_2_add[0][0]']            \n",
      "                                )                                                                 \n",
      "                                                                                                  \n",
      " block_3_expand_BN (BatchNormal  (None, 80, 120, 144  576        ['block_3_expand[0][0]']         \n",
      " ization)                       )                                                                 \n",
      "                                                                                                  \n",
      " block_3_expand_relu (ReLU)     (None, 80, 120, 144  0           ['block_3_expand_BN[0][0]']      \n",
      "                                )                                                                 \n",
      "                                                                                                  \n",
      " block_3_pad (ZeroPadding2D)    (None, 81, 121, 144  0           ['block_3_expand_relu[0][0]']    \n",
      "                                )                                                                 \n",
      "                                                                                                  \n",
      " block_3_depthwise (DepthwiseCo  (None, 40, 60, 144)  1296       ['block_3_pad[0][0]']            \n",
      " nv2D)                                                                                            \n",
      "                                                                                                  \n",
      " block_3_depthwise_BN (BatchNor  (None, 40, 60, 144)  576        ['block_3_depthwise[0][0]']      \n",
      " malization)                                                                                      \n",
      "                                                                                                  \n",
      " block_3_depthwise_relu (ReLU)  (None, 40, 60, 144)  0           ['block_3_depthwise_BN[0][0]']   \n",
      "                                                                                                  \n",
      " block_3_project (Conv2D)       (None, 40, 60, 32)   4608        ['block_3_depthwise_relu[0][0]'] \n",
      "                                                                                                  \n",
      " block_3_project_BN (BatchNorma  (None, 40, 60, 32)  128         ['block_3_project[0][0]']        \n",
      " lization)                                                                                        \n",
      "                                                                                                  \n",
      " block_4_expand (Conv2D)        (None, 40, 60, 192)  6144        ['block_3_project_BN[0][0]']     \n",
      "                                                                                                  \n",
      " block_4_expand_BN (BatchNormal  (None, 40, 60, 192)  768        ['block_4_expand[0][0]']         \n",
      " ization)                                                                                         \n",
      "                                                                                                  \n",
      " block_4_expand_relu (ReLU)     (None, 40, 60, 192)  0           ['block_4_expand_BN[0][0]']      \n",
      "                                                                                                  \n",
      " block_4_depthwise (DepthwiseCo  (None, 40, 60, 192)  1728       ['block_4_expand_relu[0][0]']    \n",
      " nv2D)                                                                                            \n",
      "                                                                                                  \n",
      " block_4_depthwise_BN (BatchNor  (None, 40, 60, 192)  768        ['block_4_depthwise[0][0]']      \n",
      " malization)                                                                                      \n",
      "                                                                                                  \n",
      " block_4_depthwise_relu (ReLU)  (None, 40, 60, 192)  0           ['block_4_depthwise_BN[0][0]']   \n",
      "                                                                                                  \n",
      " block_4_project (Conv2D)       (None, 40, 60, 32)   6144        ['block_4_depthwise_relu[0][0]'] \n",
      "                                                                                                  \n",
      " block_4_project_BN (BatchNorma  (None, 40, 60, 32)  128         ['block_4_project[0][0]']        \n",
      " lization)                                                                                        \n",
      "                                                                                                  \n",
      " block_4_add (Add)              (None, 40, 60, 32)   0           ['block_3_project_BN[0][0]',     \n",
      "                                                                  'block_4_project_BN[0][0]']     \n",
      "                                                                                                  \n",
      " block_5_expand (Conv2D)        (None, 40, 60, 192)  6144        ['block_4_add[0][0]']            \n",
      "                                                                                                  \n",
      " block_5_expand_BN (BatchNormal  (None, 40, 60, 192)  768        ['block_5_expand[0][0]']         \n",
      " ization)                                                                                         \n",
      "                                                                                                  \n",
      " block_5_expand_relu (ReLU)     (None, 40, 60, 192)  0           ['block_5_expand_BN[0][0]']      \n",
      "                                                                                                  \n",
      " block_5_depthwise (DepthwiseCo  (None, 40, 60, 192)  1728       ['block_5_expand_relu[0][0]']    \n",
      " nv2D)                                                                                            \n",
      "                                                                                                  \n",
      " block_5_depthwise_BN (BatchNor  (None, 40, 60, 192)  768        ['block_5_depthwise[0][0]']      \n",
      " malization)                                                                                      \n",
      "                                                                                                  \n",
      " block_5_depthwise_relu (ReLU)  (None, 40, 60, 192)  0           ['block_5_depthwise_BN[0][0]']   \n",
      "                                                                                                  \n",
      " block_5_project (Conv2D)       (None, 40, 60, 32)   6144        ['block_5_depthwise_relu[0][0]'] \n",
      "                                                                                                  \n",
      " block_5_project_BN (BatchNorma  (None, 40, 60, 32)  128         ['block_5_project[0][0]']        \n",
      " lization)                                                                                        \n",
      "                                                                                                  \n",
      " block_5_add (Add)              (None, 40, 60, 32)   0           ['block_4_add[0][0]',            \n",
      "                                                                  'block_5_project_BN[0][0]']     \n",
      "                                                                                                  \n",
      " block_6_expand (Conv2D)        (None, 40, 60, 192)  6144        ['block_5_add[0][0]']            \n",
      "                                                                                                  \n",
      " block_6_expand_BN (BatchNormal  (None, 40, 60, 192)  768        ['block_6_expand[0][0]']         \n",
      " ization)                                                                                         \n",
      "                                                                                                  \n",
      " block_6_expand_relu (ReLU)     (None, 40, 60, 192)  0           ['block_6_expand_BN[0][0]']      \n",
      "                                                                                                  \n",
      " block_6_pad (ZeroPadding2D)    (None, 41, 61, 192)  0           ['block_6_expand_relu[0][0]']    \n",
      "                                                                                                  \n",
      " block_6_depthwise (DepthwiseCo  (None, 20, 30, 192)  1728       ['block_6_pad[0][0]']            \n",
      " nv2D)                                                                                            \n",
      "                                                                                                  \n",
      " block_6_depthwise_BN (BatchNor  (None, 20, 30, 192)  768        ['block_6_depthwise[0][0]']      \n",
      " malization)                                                                                      \n",
      "                                                                                                  \n",
      " block_6_depthwise_relu (ReLU)  (None, 20, 30, 192)  0           ['block_6_depthwise_BN[0][0]']   \n",
      "                                                                                                  \n",
      " block_6_project (Conv2D)       (None, 20, 30, 64)   12288       ['block_6_depthwise_relu[0][0]'] \n",
      "                                                                                                  \n",
      " block_6_project_BN (BatchNorma  (None, 20, 30, 64)  256         ['block_6_project[0][0]']        \n",
      " lization)                                                                                        \n",
      "                                                                                                  \n",
      " block_7_expand (Conv2D)        (None, 20, 30, 384)  24576       ['block_6_project_BN[0][0]']     \n",
      "                                                                                                  \n",
      " block_7_expand_BN (BatchNormal  (None, 20, 30, 384)  1536       ['block_7_expand[0][0]']         \n",
      " ization)                                                                                         \n",
      "                                                                                                  \n",
      " block_7_expand_relu (ReLU)     (None, 20, 30, 384)  0           ['block_7_expand_BN[0][0]']      \n",
      "                                                                                                  \n",
      " block_7_depthwise (DepthwiseCo  (None, 20, 30, 384)  3456       ['block_7_expand_relu[0][0]']    \n",
      " nv2D)                                                                                            \n",
      "                                                                                                  \n",
      " block_7_depthwise_BN (BatchNor  (None, 20, 30, 384)  1536       ['block_7_depthwise[0][0]']      \n",
      " malization)                                                                                      \n",
      "                                                                                                  \n",
      " block_7_depthwise_relu (ReLU)  (None, 20, 30, 384)  0           ['block_7_depthwise_BN[0][0]']   \n",
      "                                                                                                  \n",
      " block_7_project (Conv2D)       (None, 20, 30, 64)   24576       ['block_7_depthwise_relu[0][0]'] \n",
      "                                                                                                  \n",
      " block_7_project_BN (BatchNorma  (None, 20, 30, 64)  256         ['block_7_project[0][0]']        \n",
      " lization)                                                                                        \n",
      "                                                                                                  \n",
      " block_7_add (Add)              (None, 20, 30, 64)   0           ['block_6_project_BN[0][0]',     \n",
      "                                                                  'block_7_project_BN[0][0]']     \n",
      "                                                                                                  \n",
      " block_8_expand (Conv2D)        (None, 20, 30, 384)  24576       ['block_7_add[0][0]']            \n",
      "                                                                                                  \n",
      " block_8_expand_BN (BatchNormal  (None, 20, 30, 384)  1536       ['block_8_expand[0][0]']         \n",
      " ization)                                                                                         \n",
      "                                                                                                  \n",
      " block_8_expand_relu (ReLU)     (None, 20, 30, 384)  0           ['block_8_expand_BN[0][0]']      \n",
      "                                                                                                  \n",
      " block_8_depthwise (DepthwiseCo  (None, 20, 30, 384)  3456       ['block_8_expand_relu[0][0]']    \n",
      " nv2D)                                                                                            \n",
      "                                                                                                  \n",
      " block_8_depthwise_BN (BatchNor  (None, 20, 30, 384)  1536       ['block_8_depthwise[0][0]']      \n",
      " malization)                                                                                      \n",
      "                                                                                                  \n",
      " block_8_depthwise_relu (ReLU)  (None, 20, 30, 384)  0           ['block_8_depthwise_BN[0][0]']   \n",
      "                                                                                                  \n",
      " block_8_project (Conv2D)       (None, 20, 30, 64)   24576       ['block_8_depthwise_relu[0][0]'] \n",
      "                                                                                                  \n",
      " block_8_project_BN (BatchNorma  (None, 20, 30, 64)  256         ['block_8_project[0][0]']        \n",
      " lization)                                                                                        \n",
      "                                                                                                  \n",
      " block_8_add (Add)              (None, 20, 30, 64)   0           ['block_7_add[0][0]',            \n",
      "                                                                  'block_8_project_BN[0][0]']     \n",
      "                                                                                                  \n",
      " block_9_expand (Conv2D)        (None, 20, 30, 384)  24576       ['block_8_add[0][0]']            \n",
      "                                                                                                  \n",
      " block_9_expand_BN (BatchNormal  (None, 20, 30, 384)  1536       ['block_9_expand[0][0]']         \n",
      " ization)                                                                                         \n",
      "                                                                                                  \n",
      " block_9_expand_relu (ReLU)     (None, 20, 30, 384)  0           ['block_9_expand_BN[0][0]']      \n",
      "                                                                                                  \n",
      " block_9_depthwise (DepthwiseCo  (None, 20, 30, 384)  3456       ['block_9_expand_relu[0][0]']    \n",
      " nv2D)                                                                                            \n",
      "                                                                                                  \n",
      " block_9_depthwise_BN (BatchNor  (None, 20, 30, 384)  1536       ['block_9_depthwise[0][0]']      \n",
      " malization)                                                                                      \n",
      "                                                                                                  \n",
      " block_9_depthwise_relu (ReLU)  (None, 20, 30, 384)  0           ['block_9_depthwise_BN[0][0]']   \n",
      "                                                                                                  \n",
      " block_9_project (Conv2D)       (None, 20, 30, 64)   24576       ['block_9_depthwise_relu[0][0]'] \n",
      "                                                                                                  \n",
      " block_9_project_BN (BatchNorma  (None, 20, 30, 64)  256         ['block_9_project[0][0]']        \n",
      " lization)                                                                                        \n",
      "                                                                                                  \n",
      " block_9_add (Add)              (None, 20, 30, 64)   0           ['block_8_add[0][0]',            \n",
      "                                                                  'block_9_project_BN[0][0]']     \n",
      "                                                                                                  \n",
      " block_10_expand (Conv2D)       (None, 20, 30, 384)  24576       ['block_9_add[0][0]']            \n",
      "                                                                                                  \n",
      " block_10_expand_BN (BatchNorma  (None, 20, 30, 384)  1536       ['block_10_expand[0][0]']        \n",
      " lization)                                                                                        \n",
      "                                                                                                  \n",
      " block_10_expand_relu (ReLU)    (None, 20, 30, 384)  0           ['block_10_expand_BN[0][0]']     \n",
      "                                                                                                  \n",
      " block_10_depthwise (DepthwiseC  (None, 20, 30, 384)  3456       ['block_10_expand_relu[0][0]']   \n",
      " onv2D)                                                                                           \n",
      "                                                                                                  \n",
      " block_10_depthwise_BN (BatchNo  (None, 20, 30, 384)  1536       ['block_10_depthwise[0][0]']     \n",
      " rmalization)                                                                                     \n",
      "                                                                                                  \n",
      " block_10_depthwise_relu (ReLU)  (None, 20, 30, 384)  0          ['block_10_depthwise_BN[0][0]']  \n",
      "                                                                                                  \n",
      " block_10_project (Conv2D)      (None, 20, 30, 96)   36864       ['block_10_depthwise_relu[0][0]']\n",
      "                                                                                                  \n",
      " block_10_project_BN (BatchNorm  (None, 20, 30, 96)  384         ['block_10_project[0][0]']       \n",
      " alization)                                                                                       \n",
      "                                                                                                  \n",
      " block_11_expand (Conv2D)       (None, 20, 30, 576)  55296       ['block_10_project_BN[0][0]']    \n",
      "                                                                                                  \n",
      " block_11_expand_BN (BatchNorma  (None, 20, 30, 576)  2304       ['block_11_expand[0][0]']        \n",
      " lization)                                                                                        \n",
      "                                                                                                  \n",
      " block_11_expand_relu (ReLU)    (None, 20, 30, 576)  0           ['block_11_expand_BN[0][0]']     \n",
      "                                                                                                  \n",
      " block_11_depthwise (DepthwiseC  (None, 20, 30, 576)  5184       ['block_11_expand_relu[0][0]']   \n",
      " onv2D)                                                                                           \n",
      "                                                                                                  \n",
      " block_11_depthwise_BN (BatchNo  (None, 20, 30, 576)  2304       ['block_11_depthwise[0][0]']     \n",
      " rmalization)                                                                                     \n",
      "                                                                                                  \n",
      " block_11_depthwise_relu (ReLU)  (None, 20, 30, 576)  0          ['block_11_depthwise_BN[0][0]']  \n",
      "                                                                                                  \n",
      " block_11_project (Conv2D)      (None, 20, 30, 96)   55296       ['block_11_depthwise_relu[0][0]']\n",
      "                                                                                                  \n",
      " block_11_project_BN (BatchNorm  (None, 20, 30, 96)  384         ['block_11_project[0][0]']       \n",
      " alization)                                                                                       \n",
      "                                                                                                  \n",
      " block_11_add (Add)             (None, 20, 30, 96)   0           ['block_10_project_BN[0][0]',    \n",
      "                                                                  'block_11_project_BN[0][0]']    \n",
      "                                                                                                  \n",
      " block_12_expand (Conv2D)       (None, 20, 30, 576)  55296       ['block_11_add[0][0]']           \n",
      "                                                                                                  \n",
      " block_12_expand_BN (BatchNorma  (None, 20, 30, 576)  2304       ['block_12_expand[0][0]']        \n",
      " lization)                                                                                        \n",
      "                                                                                                  \n",
      " block_12_expand_relu (ReLU)    (None, 20, 30, 576)  0           ['block_12_expand_BN[0][0]']     \n",
      "                                                                                                  \n",
      " block_12_depthwise (DepthwiseC  (None, 20, 30, 576)  5184       ['block_12_expand_relu[0][0]']   \n",
      " onv2D)                                                                                           \n",
      "                                                                                                  \n",
      " block_12_depthwise_BN (BatchNo  (None, 20, 30, 576)  2304       ['block_12_depthwise[0][0]']     \n",
      " rmalization)                                                                                     \n",
      "                                                                                                  \n",
      " block_12_depthwise_relu (ReLU)  (None, 20, 30, 576)  0          ['block_12_depthwise_BN[0][0]']  \n",
      "                                                                                                  \n",
      " block_12_project (Conv2D)      (None, 20, 30, 96)   55296       ['block_12_depthwise_relu[0][0]']\n",
      "                                                                                                  \n",
      " block_12_project_BN (BatchNorm  (None, 20, 30, 96)  384         ['block_12_project[0][0]']       \n",
      " alization)                                                                                       \n",
      "                                                                                                  \n",
      " block_12_add (Add)             (None, 20, 30, 96)   0           ['block_11_add[0][0]',           \n",
      "                                                                  'block_12_project_BN[0][0]']    \n",
      "                                                                                                  \n",
      " block_13_expand (Conv2D)       (None, 20, 30, 576)  55296       ['block_12_add[0][0]']           \n",
      "                                                                                                  \n",
      " block_13_expand_BN (BatchNorma  (None, 20, 30, 576)  2304       ['block_13_expand[0][0]']        \n",
      " lization)                                                                                        \n",
      "                                                                                                  \n",
      " block_13_expand_relu (ReLU)    (None, 20, 30, 576)  0           ['block_13_expand_BN[0][0]']     \n",
      "                                                                                                  \n",
      " block_13_pad (ZeroPadding2D)   (None, 21, 31, 576)  0           ['block_13_expand_relu[0][0]']   \n",
      "                                                                                                  \n",
      " block_13_depthwise (DepthwiseC  (None, 10, 15, 576)  5184       ['block_13_pad[0][0]']           \n",
      " onv2D)                                                                                           \n",
      "                                                                                                  \n",
      " block_13_depthwise_BN (BatchNo  (None, 10, 15, 576)  2304       ['block_13_depthwise[0][0]']     \n",
      " rmalization)                                                                                     \n",
      "                                                                                                  \n",
      " block_13_depthwise_relu (ReLU)  (None, 10, 15, 576)  0          ['block_13_depthwise_BN[0][0]']  \n",
      "                                                                                                  \n",
      " block_13_project (Conv2D)      (None, 10, 15, 160)  92160       ['block_13_depthwise_relu[0][0]']\n",
      "                                                                                                  \n",
      " block_13_project_BN (BatchNorm  (None, 10, 15, 160)  640        ['block_13_project[0][0]']       \n",
      " alization)                                                                                       \n",
      "                                                                                                  \n",
      " block_14_expand (Conv2D)       (None, 10, 15, 960)  153600      ['block_13_project_BN[0][0]']    \n",
      "                                                                                                  \n",
      " block_14_expand_BN (BatchNorma  (None, 10, 15, 960)  3840       ['block_14_expand[0][0]']        \n",
      " lization)                                                                                        \n",
      "                                                                                                  \n",
      " block_14_expand_relu (ReLU)    (None, 10, 15, 960)  0           ['block_14_expand_BN[0][0]']     \n",
      "                                                                                                  \n",
      " block_14_depthwise (DepthwiseC  (None, 10, 15, 960)  8640       ['block_14_expand_relu[0][0]']   \n",
      " onv2D)                                                                                           \n",
      "                                                                                                  \n",
      " block_14_depthwise_BN (BatchNo  (None, 10, 15, 960)  3840       ['block_14_depthwise[0][0]']     \n",
      " rmalization)                                                                                     \n",
      "                                                                                                  \n",
      " block_14_depthwise_relu (ReLU)  (None, 10, 15, 960)  0          ['block_14_depthwise_BN[0][0]']  \n",
      "                                                                                                  \n",
      " block_14_project (Conv2D)      (None, 10, 15, 160)  153600      ['block_14_depthwise_relu[0][0]']\n",
      "                                                                                                  \n",
      " block_14_project_BN (BatchNorm  (None, 10, 15, 160)  640        ['block_14_project[0][0]']       \n",
      " alization)                                                                                       \n",
      "                                                                                                  \n",
      " block_14_add (Add)             (None, 10, 15, 160)  0           ['block_13_project_BN[0][0]',    \n",
      "                                                                  'block_14_project_BN[0][0]']    \n",
      "                                                                                                  \n",
      " block_15_expand (Conv2D)       (None, 10, 15, 960)  153600      ['block_14_add[0][0]']           \n",
      "                                                                                                  \n",
      " block_15_expand_BN (BatchNorma  (None, 10, 15, 960)  3840       ['block_15_expand[0][0]']        \n",
      " lization)                                                                                        \n",
      "                                                                                                  \n",
      " block_15_expand_relu (ReLU)    (None, 10, 15, 960)  0           ['block_15_expand_BN[0][0]']     \n",
      "                                                                                                  \n",
      " block_15_depthwise (DepthwiseC  (None, 10, 15, 960)  8640       ['block_15_expand_relu[0][0]']   \n",
      " onv2D)                                                                                           \n",
      "                                                                                                  \n",
      " block_15_depthwise_BN (BatchNo  (None, 10, 15, 960)  3840       ['block_15_depthwise[0][0]']     \n",
      " rmalization)                                                                                     \n",
      "                                                                                                  \n",
      " block_15_depthwise_relu (ReLU)  (None, 10, 15, 960)  0          ['block_15_depthwise_BN[0][0]']  \n",
      "                                                                                                  \n",
      " block_15_project (Conv2D)      (None, 10, 15, 160)  153600      ['block_15_depthwise_relu[0][0]']\n",
      "                                                                                                  \n",
      " block_15_project_BN (BatchNorm  (None, 10, 15, 160)  640        ['block_15_project[0][0]']       \n",
      " alization)                                                                                       \n",
      "                                                                                                  \n",
      " block_15_add (Add)             (None, 10, 15, 160)  0           ['block_14_add[0][0]',           \n",
      "                                                                  'block_15_project_BN[0][0]']    \n",
      "                                                                                                  \n",
      " block_16_expand (Conv2D)       (None, 10, 15, 960)  153600      ['block_15_add[0][0]']           \n",
      "                                                                                                  \n",
      " block_16_expand_BN (BatchNorma  (None, 10, 15, 960)  3840       ['block_16_expand[0][0]']        \n",
      " lization)                                                                                        \n",
      "                                                                                                  \n",
      " block_16_expand_relu (ReLU)    (None, 10, 15, 960)  0           ['block_16_expand_BN[0][0]']     \n",
      "                                                                                                  \n",
      " block_16_depthwise (DepthwiseC  (None, 10, 15, 960)  8640       ['block_16_expand_relu[0][0]']   \n",
      " onv2D)                                                                                           \n",
      "                                                                                                  \n",
      " block_16_depthwise_BN (BatchNo  (None, 10, 15, 960)  3840       ['block_16_depthwise[0][0]']     \n",
      " rmalization)                                                                                     \n",
      "                                                                                                  \n",
      " block_16_depthwise_relu (ReLU)  (None, 10, 15, 960)  0          ['block_16_depthwise_BN[0][0]']  \n",
      "                                                                                                  \n",
      " block_16_project (Conv2D)      (None, 10, 15, 320)  307200      ['block_16_depthwise_relu[0][0]']\n",
      "                                                                                                  \n",
      " block_16_project_BN (BatchNorm  (None, 10, 15, 320)  1280       ['block_16_project[0][0]']       \n",
      " alization)                                                                                       \n",
      "                                                                                                  \n",
      " Conv_1 (Conv2D)                (None, 10, 15, 1280  409600      ['block_16_project_BN[0][0]']    \n",
      "                                )                                                                 \n",
      "                                                                                                  \n",
      " Conv_1_bn (BatchNormalization)  (None, 10, 15, 1280  5120       ['Conv_1[0][0]']                 \n",
      "                                )                                                                 \n",
      "                                                                                                  \n",
      " out_relu (ReLU)                (None, 10, 15, 1280  0           ['Conv_1_bn[0][0]']              \n",
      "                                )                                                                 \n",
      "                                                                                                  \n",
      " dropout_11 (Dropout)           (None, 10, 15, 1280  0           ['out_relu[0][0]']               \n",
      "                                )                                                                 \n",
      "                                                                                                  \n",
      " up_sampling2d_55 (UpSampling2D  (None, 20, 30, 1280  0          ['dropout_11[0][0]']             \n",
      " )                              )                                                                 \n",
      "                                                                                                  \n",
      " conv2d_143 (Conv2D)            (None, 20, 30, 512)  2621952     ['up_sampling2d_55[0][0]']       \n",
      "                                                                                                  \n",
      " batch_normalization_143 (Batch  (None, 20, 30, 512)  2048       ['conv2d_143[0][0]']             \n",
      " Normalization)                                                                                   \n",
      "                                                                                                  \n",
      " re_lu_132 (ReLU)               (None, 20, 30, 512)  0           ['batch_normalization_143[0][0]']\n",
      "                                                                                                  \n",
      " concatenate_44 (Concatenate)   (None, 20, 30, 608)  0           ['re_lu_132[0][0]',              \n",
      "                                                                  'block_12_add[0][0]']           \n",
      "                                                                                                  \n",
      " conv2d_144 (Conv2D)            (None, 20, 30, 512)  2802176     ['concatenate_44[0][0]']         \n",
      "                                                                                                  \n",
      " batch_normalization_144 (Batch  (None, 20, 30, 512)  2048       ['conv2d_144[0][0]']             \n",
      " Normalization)                                                                                   \n",
      "                                                                                                  \n",
      " re_lu_133 (ReLU)               (None, 20, 30, 512)  0           ['batch_normalization_144[0][0]']\n",
      "                                                                                                  \n",
      " conv2d_145 (Conv2D)            (None, 20, 30, 512)  2359808     ['re_lu_133[0][0]']              \n",
      "                                                                                                  \n",
      " batch_normalization_145 (Batch  (None, 20, 30, 512)  2048       ['conv2d_145[0][0]']             \n",
      " Normalization)                                                                                   \n",
      "                                                                                                  \n",
      " re_lu_134 (ReLU)               (None, 20, 30, 512)  0           ['batch_normalization_145[0][0]']\n",
      "                                                                                                  \n",
      " up_sampling2d_56 (UpSampling2D  (None, 40, 60, 512)  0          ['re_lu_134[0][0]']              \n",
      " )                                                                                                \n",
      "                                                                                                  \n",
      " conv2d_146 (Conv2D)            (None, 40, 60, 256)  524544      ['up_sampling2d_56[0][0]']       \n",
      "                                                                                                  \n",
      " batch_normalization_146 (Batch  (None, 40, 60, 256)  1024       ['conv2d_146[0][0]']             \n",
      " Normalization)                                                                                   \n",
      "                                                                                                  \n",
      " re_lu_135 (ReLU)               (None, 40, 60, 256)  0           ['batch_normalization_146[0][0]']\n",
      "                                                                                                  \n",
      " concatenate_45 (Concatenate)   (None, 40, 60, 288)  0           ['re_lu_135[0][0]',              \n",
      "                                                                  'block_5_add[0][0]']            \n",
      "                                                                                                  \n",
      " conv2d_147 (Conv2D)            (None, 40, 60, 256)  663808      ['concatenate_45[0][0]']         \n",
      "                                                                                                  \n",
      " batch_normalization_147 (Batch  (None, 40, 60, 256)  1024       ['conv2d_147[0][0]']             \n",
      " Normalization)                                                                                   \n",
      "                                                                                                  \n",
      " re_lu_136 (ReLU)               (None, 40, 60, 256)  0           ['batch_normalization_147[0][0]']\n",
      "                                                                                                  \n",
      " conv2d_148 (Conv2D)            (None, 40, 60, 256)  590080      ['re_lu_136[0][0]']              \n",
      "                                                                                                  \n",
      " batch_normalization_148 (Batch  (None, 40, 60, 256)  1024       ['conv2d_148[0][0]']             \n",
      " Normalization)                                                                                   \n",
      "                                                                                                  \n",
      " re_lu_137 (ReLU)               (None, 40, 60, 256)  0           ['batch_normalization_148[0][0]']\n",
      "                                                                                                  \n",
      " up_sampling2d_57 (UpSampling2D  (None, 80, 120, 256  0          ['re_lu_137[0][0]']              \n",
      " )                              )                                                                 \n",
      "                                                                                                  \n",
      " conv2d_149 (Conv2D)            (None, 80, 120, 128  131200      ['up_sampling2d_57[0][0]']       \n",
      "                                )                                                                 \n",
      "                                                                                                  \n",
      " batch_normalization_149 (Batch  (None, 80, 120, 128  512        ['conv2d_149[0][0]']             \n",
      " Normalization)                 )                                                                 \n",
      "                                                                                                  \n",
      " re_lu_138 (ReLU)               (None, 80, 120, 128  0           ['batch_normalization_149[0][0]']\n",
      "                                )                                                                 \n",
      "                                                                                                  \n",
      " concatenate_46 (Concatenate)   (None, 80, 120, 152  0           ['re_lu_138[0][0]',              \n",
      "                                )                                 'block_2_add[0][0]']            \n",
      "                                                                                                  \n",
      " conv2d_150 (Conv2D)            (None, 80, 120, 128  175232      ['concatenate_46[0][0]']         \n",
      "                                )                                                                 \n",
      "                                                                                                  \n",
      " batch_normalization_150 (Batch  (None, 80, 120, 128  512        ['conv2d_150[0][0]']             \n",
      " Normalization)                 )                                                                 \n",
      "                                                                                                  \n",
      " re_lu_139 (ReLU)               (None, 80, 120, 128  0           ['batch_normalization_150[0][0]']\n",
      "                                )                                                                 \n",
      "                                                                                                  \n",
      " conv2d_151 (Conv2D)            (None, 80, 120, 128  147584      ['re_lu_139[0][0]']              \n",
      "                                )                                                                 \n",
      "                                                                                                  \n",
      " batch_normalization_151 (Batch  (None, 80, 120, 128  512        ['conv2d_151[0][0]']             \n",
      " Normalization)                 )                                                                 \n",
      "                                                                                                  \n",
      " re_lu_140 (ReLU)               (None, 80, 120, 128  0           ['batch_normalization_151[0][0]']\n",
      "                                )                                                                 \n",
      "                                                                                                  \n",
      " up_sampling2d_58 (UpSampling2D  (None, 160, 240, 12  0          ['re_lu_140[0][0]']              \n",
      " )                              8)                                                                \n",
      "                                                                                                  \n",
      " conv2d_152 (Conv2D)            (None, 160, 240, 64  32832       ['up_sampling2d_58[0][0]']       \n",
      "                                )                                                                 \n",
      "                                                                                                  \n",
      " batch_normalization_152 (Batch  (None, 160, 240, 64  256        ['conv2d_152[0][0]']             \n",
      " Normalization)                 )                                                                 \n",
      "                                                                                                  \n",
      " re_lu_141 (ReLU)               (None, 160, 240, 64  0           ['batch_normalization_152[0][0]']\n",
      "                                )                                                                 \n",
      "                                                                                                  \n",
      " concatenate_47 (Concatenate)   (None, 160, 240, 80  0           ['re_lu_141[0][0]',              \n",
      "                                )                                 'expanded_conv_project_BN[0][0]'\n",
      "                                                                 ]                                \n",
      "                                                                                                  \n",
      " conv2d_153 (Conv2D)            (None, 160, 240, 64  46144       ['concatenate_47[0][0]']         \n",
      "                                )                                                                 \n",
      "                                                                                                  \n",
      " batch_normalization_153 (Batch  (None, 160, 240, 64  256        ['conv2d_153[0][0]']             \n",
      " Normalization)                 )                                                                 \n",
      "                                                                                                  \n",
      " re_lu_142 (ReLU)               (None, 160, 240, 64  0           ['batch_normalization_153[0][0]']\n",
      "                                )                                                                 \n",
      "                                                                                                  \n",
      " conv2d_154 (Conv2D)            (None, 160, 240, 64  36928       ['re_lu_142[0][0]']              \n",
      "                                )                                                                 \n",
      "                                                                                                  \n",
      " batch_normalization_154 (Batch  (None, 160, 240, 64  256        ['conv2d_154[0][0]']             \n",
      " Normalization)                 )                                                                 \n",
      "                                                                                                  \n",
      " re_lu_143 (ReLU)               (None, 160, 240, 64  0           ['batch_normalization_154[0][0]']\n",
      "                                )                                                                 \n",
      "                                                                                                  \n",
      " up_sampling2d_59 (UpSampling2D  (None, 320, 480, 64  0          ['re_lu_143[0][0]']              \n",
      " )                              )                                                                 \n",
      "                                                                                                  \n",
      " conv2d_155 (Conv2D)            (None, 320, 480, 2)  130         ['up_sampling2d_59[0][0]']       \n",
      "                                                                                                  \n",
      " batch_normalization_155 (Batch  (None, 320, 480, 2)  8          ['conv2d_155[0][0]']             \n",
      " Normalization)                                                                                   \n",
      "                                                                                                  \n",
      "==================================================================================================\n",
      "Total params: 12,401,930\n",
      "Trainable params: 12,362,054\n",
      "Non-trainable params: 39,876\n",
      "__________________________________________________________________________________________________\n"
     ]
    }
   ],
   "source": [
    "model.summary()"
   ]
  },
  {
   "cell_type": "code",
   "execution_count": 101,
   "metadata": {},
   "outputs": [
    {
     "name": "stdout",
     "output_type": "stream",
     "text": [
      "INFO:tensorflow:Assets written to: C:\\Users\\hci\\AppData\\Local\\Temp\\tmpuc7kc83w\\assets\n"
     ]
    },
    {
     "name": "stderr",
     "output_type": "stream",
     "text": [
      "INFO:tensorflow:Assets written to: C:\\Users\\hci\\AppData\\Local\\Temp\\tmpuc7kc83w\\assets\n",
      "WARNING:absl:Buffer deduplication procedure will be skipped when flatbuffer library is not properly loaded\n"
     ]
    }
   ],
   "source": [
    "converter = tf.lite.TFLiteConverter.from_keras_model(model)\n",
    "converter.optimizations = [tf.lite.Optimize.DEFAULT]\n",
    "\n",
    "tflite_model_quant = converter.convert()"
   ]
  },
  {
   "cell_type": "code",
   "execution_count": 26,
   "metadata": {},
   "outputs": [
    {
     "name": "stderr",
     "output_type": "stream",
     "text": [
      "WARNING:absl:Found untraced functions such as Conv1_layer_call_fn, Conv1_layer_call_and_return_conditional_losses, Conv1_relu_layer_call_fn, Conv1_relu_layer_call_and_return_conditional_losses, expanded_conv_depthwise_layer_call_fn while saving (showing 5 of 635). These functions will not be directly callable after loading.\n"
     ]
    },
    {
     "name": "stdout",
     "output_type": "stream",
     "text": [
      "INFO:tensorflow:Assets written to: C:\\Users\\hci\\AppData\\Local\\Temp\\tmpfsdqtu43\\assets\n"
     ]
    },
    {
     "name": "stderr",
     "output_type": "stream",
     "text": [
      "INFO:tensorflow:Assets written to: C:\\Users\\hci\\AppData\\Local\\Temp\\tmpfsdqtu43\\assets\n",
      "WARNING:absl:Buffer deduplication procedure will be skipped when flatbuffer library is not properly loaded\n"
     ]
    }
   ],
   "source": [
    "def representative_data_gen():\n",
    "  for i, (images,masks) in enumerate(valid_generator):\n",
    "    if i == 1:\n",
    "        break\n",
    "    yield [images.astype(np.float32)] # 여기는 이미 normalization된 상태이다.\n",
    "\n",
    "converter = tf.lite.TFLiteConverter.from_keras_model(model)\n",
    "converter.optimizations = [tf.lite.Optimize.DEFAULT]\n",
    "converter.representative_dataset = representative_data_gen\n",
    "# Ensure that if any ops can't be quantized, the converter throws an error\n",
    "converter.target_spec.supported_ops = [tf.lite.OpsSet.TFLITE_BUILTINS_INT8]\n",
    "# Set the input and output tensors to uint8 (APIs added in r2.3)\n",
    "converter.inference_input_type = tf.uint8\n",
    "converter.inference_output_type = tf.uint8\n",
    "\n",
    "tflite_model_quant = converter.convert()"
   ]
  },
  {
   "cell_type": "code",
   "execution_count": 77,
   "metadata": {},
   "outputs": [
    {
     "name": "stdout",
     "output_type": "stream",
     "text": [
      "input:  <class 'numpy.float32'>\n",
      "output:  <class 'numpy.float32'>\n"
     ]
    }
   ],
   "source": [
    "interpreter = tf.lite.Interpreter(model_content=tflite_model_quant)\n",
    "input_type = interpreter.get_input_details()[0]['dtype']\n",
    "print('input: ', input_type)\n",
    "output_type = interpreter.get_output_details()[0]['dtype']\n",
    "print('output: ', output_type)"
   ]
  },
  {
   "cell_type": "code",
   "execution_count": 102,
   "metadata": {},
   "outputs": [
    {
     "data": {
      "text/plain": [
       "12851232"
      ]
     },
     "execution_count": 102,
     "metadata": {},
     "output_type": "execute_result"
    }
   ],
   "source": [
    "# 모델 저장\n",
    "import pathlib\n",
    "\n",
    "tflite_models_dir = pathlib.Path(\"./tflite_models/unet_tflite_models/\")\n",
    "tflite_models_dir.mkdir(exist_ok=True, parents=True)\n",
    "\n",
    "# Save the quantized model:\n",
    "tflite_model_quant_file = tflite_models_dir/\"unet_tflite_quant_320480_models.tflite\"\n",
    "tflite_model_quant_file.write_bytes(tflite_model_quant)"
   ]
  },
  {
   "cell_type": "code",
   "execution_count": 103,
   "metadata": {},
   "outputs": [
    {
     "name": "stdout",
     "output_type": "stream",
     "text": [
      "Model: \"model_6\"\n",
      "_________________________________________________________________\n",
      " Layer (type)                Output Shape              Param #   \n",
      "=================================================================\n",
      " input_33 (InputLayer)       [(None, 320, 480, 3)]     0         \n",
      "                                                                 \n",
      " UNet (Functional)           (None, 320, 480, 2)       12401930  \n",
      "                                                                 \n",
      " softmax_7 (Softmax)         (None, 320, 480, 2)       0         \n",
      "                                                                 \n",
      "=================================================================\n",
      "Total params: 12,401,930\n",
      "Trainable params: 12,362,054\n",
      "Non-trainable params: 39,876\n",
      "_________________________________________________________________\n"
     ]
    }
   ],
   "source": [
    "model.summary()"
   ]
  }
 ],
 "metadata": {
  "kernelspec": {
   "display_name": "Python 3.8.13 ('tensorflow')",
   "language": "python",
   "name": "python3"
  },
  "language_info": {
   "codemirror_mode": {
    "name": "ipython",
    "version": 3
   },
   "file_extension": ".py",
   "mimetype": "text/x-python",
   "name": "python",
   "nbconvert_exporter": "python",
   "pygments_lexer": "ipython3",
   "version": "3.8.13"
  },
  "orig_nbformat": 4,
  "vscode": {
   "interpreter": {
    "hash": "4692086f9fc5ab7fa73ed3f0e55a45a14ee4b5490331992274da3df904600d78"
   }
  }
 },
 "nbformat": 4,
 "nbformat_minor": 2
}
